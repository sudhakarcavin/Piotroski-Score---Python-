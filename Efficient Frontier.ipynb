{
 "cells": [
  {
   "cell_type": "code",
   "execution_count": 54,
   "metadata": {},
   "outputs": [],
   "source": [
    "import pandas_datareader.data as web\n",
    "import datetime as dt\n",
    "import pandas as pd\n",
    "\n",
    "start=dt.datetime(2010,1,1)\n",
    "end=dt.datetime.now()\n",
    "\n",
    "tickers=['AAPL','MSFT','GOOG','F','MS']\n",
    "\n",
    "df=pd.DataFrame()\n",
    "for ticker in tickers:\n",
    "    df2=web.DataReader(ticker,'yahoo',start,end)\n",
    "    df[ticker]=df2['Adj Close']"
   ]
  },
  {
   "cell_type": "code",
   "execution_count": 57,
   "metadata": {},
   "outputs": [],
   "source": [
    "import numpy as np\n",
    "return1=np.log(df/df.shift(1))"
   ]
  },
  {
   "cell_type": "code",
   "execution_count": 61,
   "metadata": {},
   "outputs": [],
   "source": [
    "return1.dropna(inplace=True)"
   ]
  },
  {
   "cell_type": "code",
   "execution_count": 70,
   "metadata": {},
   "outputs": [],
   "source": [
    "Er=np.array(return1.describe().loc['mean'])\n",
    "std=np.array(return1.describe().loc['std'])\n",
    "var=std**2\n",
    "varcovar1=return1.cov()"
   ]
  },
  {
   "cell_type": "code",
   "execution_count": 92,
   "metadata": {},
   "outputs": [],
   "source": [
    "# Efficient Portfolio A\n",
    "\n",
    "c1=0\n",
    "\n",
    "weightA=np.linalg.inv(varcovar1) @ (Er-c1) / np.sum(np.linalg.inv(varcovar1) @ (Er-c1))\n",
    "ErA=weightA@Er\n",
    "VarA=weightA@varcovar1@weightA.T\n",
    "stdA=np.sqrt(VarA)"
   ]
  },
  {
   "cell_type": "code",
   "execution_count": 93,
   "metadata": {},
   "outputs": [],
   "source": [
    "# Efficient Portfolio B\n",
    "\n",
    "c2=0.04\n",
    "\n",
    "weightB=np.linalg.inv(varcovar1) @ (Er-c2) / np.sum(np.linalg.inv(varcovar1) @ (Er-c2))\n",
    "ErB=weightB@Er\n",
    "VarB=weightB@varcovar1@weightB.T\n",
    "stdB=np.sqrt(VarB)"
   ]
  },
  {
   "cell_type": "code",
   "execution_count": 86,
   "metadata": {},
   "outputs": [],
   "source": [
    "covAB=weightA@varcovar1@weightB.T"
   ]
  },
  {
   "cell_type": "code",
   "execution_count": 97,
   "metadata": {},
   "outputs": [],
   "source": [
    "wa=np.linspace(-1.5,4.5,num=100)\n",
    "wb=1-wa"
   ]
  },
  {
   "cell_type": "code",
   "execution_count": 98,
   "metadata": {},
   "outputs": [],
   "source": [
    "ErC=wa*ErA + wb*ErB"
   ]
  },
  {
   "cell_type": "code",
   "execution_count": 99,
   "metadata": {},
   "outputs": [],
   "source": [
    "stdC=np.sqrt((wa*stdA)**2 + (wb*stdB)**2 + 2*wa*wb*covAB)"
   ]
  },
  {
   "cell_type": "code",
   "execution_count": 108,
   "metadata": {},
   "outputs": [],
   "source": [
    "UM=np.ones((varcovar1.shape[0]))\n",
    "\n",
    "GMVP=UM @ np.linalg.inv(varcovar1) / (UM @ np.linalg.inv(varcovar1) @ UM.T)"
   ]
  },
  {
   "cell_type": "code",
   "execution_count": 112,
   "metadata": {},
   "outputs": [],
   "source": [
    "GMVP\n",
    "ErG=GMVP@Er\n",
    "stdG=np.sqrt(GMVP@varcovar1@GMVP.T)"
   ]
  },
  {
   "cell_type": "code",
   "execution_count": 113,
   "metadata": {},
   "outputs": [
    {
     "data": {
      "image/png": "[encoded data removed]",
      "text/plain": [
       "<Figure size 432x288 with 1 Axes>"
      ]
     },
     "metadata": {
      "needs_background": "light"
     },
     "output_type": "display_data"
    }
   ],
   "source": [
    "import matplotlib.pyplot as plt\n",
    "\n",
    "plt.plot(stdC,ErC)\n",
    "plt.scatter(stdG,ErG)\n",
    "plt.show()"
   ]
  },
  {
   "cell_type": "code",
   "execution_count": null,
   "metadata": {},
   "outputs": [],
   "source": []
  },
  {
   "cell_type": "code",
   "execution_count": null,
   "metadata": {},
   "outputs": [],
   "source": []
  },
  {
   "cell_type": "code",
   "execution_count": null,
   "metadata": {},
   "outputs": [],
   "source": []
  },
  {
   "cell_type": "code",
   "execution_count": null,
   "metadata": {},
   "outputs": [],
   "source": []
  }
 ],
 "metadata": {
  "kernelspec": {
   "display_name": "Python 3",
   "language": "python",
   "name": "python3"
  },
  "language_info": {
   "codemirror_mode": {
    "name": "ipython",
    "version": 3
   },
   "file_extension": ".py",
   "mimetype": "text/x-python",
   "name": "python",
   "nbconvert_exporter": "python",
   "pygments_lexer": "ipython3",
   "version": "3.7.6"
  }
 },
 "nbformat": 4,
 "nbformat_minor": 4
}
